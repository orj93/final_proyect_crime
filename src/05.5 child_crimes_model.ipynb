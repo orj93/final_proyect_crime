{
 "cells": [
  {
   "cell_type": "code",
   "execution_count": 1,
   "metadata": {},
   "outputs": [],
   "source": [
    "import pandas as pd\n",
    "import numpy as np\n",
    "import matplotlib.pyplot as plt\n",
    "from sklearn.cluster import KMeans\n",
    "from sklearn.neighbors import KNeighborsClassifier\n",
    "from sklearn.metrics import accuracy_score, confusion_matrix\n",
    "from sklearn.model_selection import ParameterGrid, train_test_split\n",
    "import seaborn as sns\n",
    "from pickle import dump"
   ]
  },
  {
   "cell_type": "code",
   "execution_count": 2,
   "metadata": {},
   "outputs": [
    {
     "data": {
      "text/html": [
       "<div>\n",
       "<style scoped>\n",
       "    .dataframe tbody tr th:only-of-type {\n",
       "        vertical-align: middle;\n",
       "    }\n",
       "\n",
       "    .dataframe tbody tr th {\n",
       "        vertical-align: top;\n",
       "    }\n",
       "\n",
       "    .dataframe thead th {\n",
       "        text-align: right;\n",
       "    }\n",
       "</style>\n",
       "<table border=\"1\" class=\"dataframe\">\n",
       "  <thead>\n",
       "    <tr style=\"text-align: right;\">\n",
       "      <th></th>\n",
       "      <th>date_occ</th>\n",
       "      <th>time_occ</th>\n",
       "      <th>area_name</th>\n",
       "      <th>crm_cd_desc</th>\n",
       "      <th>vict_age</th>\n",
       "      <th>vict_sex</th>\n",
       "      <th>vict_descent</th>\n",
       "      <th>premis_desc</th>\n",
       "      <th>weapon_desc</th>\n",
       "      <th>status_desc</th>\n",
       "      <th>location</th>\n",
       "      <th>lat</th>\n",
       "      <th>lon</th>\n",
       "      <th>weekday</th>\n",
       "      <th>month</th>\n",
       "      <th>mocodes_desc</th>\n",
       "    </tr>\n",
       "  </thead>\n",
       "  <tbody>\n",
       "    <tr>\n",
       "      <th>0</th>\n",
       "      <td>2020-01-08</td>\n",
       "      <td>2230</td>\n",
       "      <td>0</td>\n",
       "      <td>0</td>\n",
       "      <td>36</td>\n",
       "      <td>0</td>\n",
       "      <td>0</td>\n",
       "      <td>0</td>\n",
       "      <td>0</td>\n",
       "      <td>0</td>\n",
       "      <td>0</td>\n",
       "      <td>34.0141</td>\n",
       "      <td>-118.2978</td>\n",
       "      <td>0</td>\n",
       "      <td>0</td>\n",
       "      <td>0</td>\n",
       "    </tr>\n",
       "    <tr>\n",
       "      <th>1</th>\n",
       "      <td>2020-01-01</td>\n",
       "      <td>330</td>\n",
       "      <td>1</td>\n",
       "      <td>0</td>\n",
       "      <td>25</td>\n",
       "      <td>1</td>\n",
       "      <td>1</td>\n",
       "      <td>1</td>\n",
       "      <td>1</td>\n",
       "      <td>1</td>\n",
       "      <td>1</td>\n",
       "      <td>34.0459</td>\n",
       "      <td>-118.2545</td>\n",
       "      <td>0</td>\n",
       "      <td>0</td>\n",
       "      <td>1</td>\n",
       "    </tr>\n",
       "    <tr>\n",
       "      <th>2</th>\n",
       "      <td>2020-01-01</td>\n",
       "      <td>1730</td>\n",
       "      <td>2</td>\n",
       "      <td>1</td>\n",
       "      <td>76</td>\n",
       "      <td>0</td>\n",
       "      <td>2</td>\n",
       "      <td>2</td>\n",
       "      <td>2</td>\n",
       "      <td>1</td>\n",
       "      <td>2</td>\n",
       "      <td>34.1685</td>\n",
       "      <td>-118.4019</td>\n",
       "      <td>0</td>\n",
       "      <td>0</td>\n",
       "      <td>2</td>\n",
       "    </tr>\n",
       "    <tr>\n",
       "      <th>3</th>\n",
       "      <td>2020-01-01</td>\n",
       "      <td>415</td>\n",
       "      <td>3</td>\n",
       "      <td>2</td>\n",
       "      <td>31</td>\n",
       "      <td>2</td>\n",
       "      <td>3</td>\n",
       "      <td>3</td>\n",
       "      <td>2</td>\n",
       "      <td>1</td>\n",
       "      <td>3</td>\n",
       "      <td>34.2198</td>\n",
       "      <td>-118.4468</td>\n",
       "      <td>0</td>\n",
       "      <td>0</td>\n",
       "      <td>3</td>\n",
       "    </tr>\n",
       "    <tr>\n",
       "      <th>4</th>\n",
       "      <td>2020-01-01</td>\n",
       "      <td>30</td>\n",
       "      <td>1</td>\n",
       "      <td>3</td>\n",
       "      <td>25</td>\n",
       "      <td>0</td>\n",
       "      <td>1</td>\n",
       "      <td>4</td>\n",
       "      <td>1</td>\n",
       "      <td>1</td>\n",
       "      <td>4</td>\n",
       "      <td>34.0452</td>\n",
       "      <td>-118.2534</td>\n",
       "      <td>0</td>\n",
       "      <td>0</td>\n",
       "      <td>4</td>\n",
       "    </tr>\n",
       "  </tbody>\n",
       "</table>\n",
       "</div>"
      ],
      "text/plain": [
       "     date_occ  time_occ  area_name  crm_cd_desc  vict_age  vict_sex  \\\n",
       "0  2020-01-08      2230          0            0        36         0   \n",
       "1  2020-01-01       330          1            0        25         1   \n",
       "2  2020-01-01      1730          2            1        76         0   \n",
       "3  2020-01-01       415          3            2        31         2   \n",
       "4  2020-01-01        30          1            3        25         0   \n",
       "\n",
       "   vict_descent  premis_desc  weapon_desc  status_desc  location      lat  \\\n",
       "0             0            0            0            0         0  34.0141   \n",
       "1             1            1            1            1         1  34.0459   \n",
       "2             2            2            2            1         2  34.1685   \n",
       "3             3            3            2            1         3  34.2198   \n",
       "4             1            4            1            1         4  34.0452   \n",
       "\n",
       "        lon  weekday  month  mocodes_desc  \n",
       "0 -118.2978        0      0             0  \n",
       "1 -118.2545        0      0             1  \n",
       "2 -118.4019        0      0             2  \n",
       "3 -118.4468        0      0             3  \n",
       "4 -118.2534        0      0             4  "
      ]
     },
     "execution_count": 2,
     "metadata": {},
     "output_type": "execute_result"
    }
   ],
   "source": [
    "total_data=pd.read_csv(\"../data/processed/final_data.csv\")\n",
    "total_data.head()"
   ]
  },
  {
   "cell_type": "code",
   "execution_count": 3,
   "metadata": {},
   "outputs": [],
   "source": [
    "\"\"\" Making a dataframe only with crimes involving children: \n",
    "    LEWD\\/LASCIVIOUS ACTS WITH CHILD, \n",
    "    CHILD ABUSE (PHYSICAL) - SIMPLE ASSAULT),\n",
    "    CHILD ANNOYING (17YRS & UNDER),\n",
    "    CRM AGNST CHLD (13 OR UNDER) (14-15 & SUSP 10 YRS OLDER),\n",
    "    CHILD PORNOGRAPHY,\n",
    "    CHILD ABUSE (PHYSICAL) - AGGRAVATED ASSAULT\n",
    "      \"\"\"\n",
    "children=total_data[total_data['crm_cd_desc'].isin([39,49,69,73,74,79])]"
   ]
  },
  {
   "cell_type": "code",
   "execution_count": 4,
   "metadata": {},
   "outputs": [],
   "source": [
    "children=children[children['vict_age']<18]"
   ]
  },
  {
   "cell_type": "code",
   "execution_count": 5,
   "metadata": {},
   "outputs": [
    {
     "name": "stdout",
     "output_type": "stream",
     "text": [
      "<class 'pandas.core.frame.DataFrame'>\n",
      "Index: 2671 entries, 510 to 320362\n",
      "Data columns (total 16 columns):\n",
      " #   Column        Non-Null Count  Dtype  \n",
      "---  ------        --------------  -----  \n",
      " 0   date_occ      2671 non-null   object \n",
      " 1   time_occ      2671 non-null   int64  \n",
      " 2   area_name     2671 non-null   int64  \n",
      " 3   crm_cd_desc   2671 non-null   int64  \n",
      " 4   vict_age      2671 non-null   int64  \n",
      " 5   vict_sex      2671 non-null   int64  \n",
      " 6   vict_descent  2671 non-null   int64  \n",
      " 7   premis_desc   2671 non-null   int64  \n",
      " 8   weapon_desc   2671 non-null   int64  \n",
      " 9   status_desc   2671 non-null   int64  \n",
      " 10  location      2671 non-null   int64  \n",
      " 11  lat           2671 non-null   float64\n",
      " 12  lon           2671 non-null   float64\n",
      " 13  weekday       2671 non-null   int64  \n",
      " 14  month         2671 non-null   int64  \n",
      " 15  mocodes_desc  2671 non-null   int64  \n",
      "dtypes: float64(2), int64(13), object(1)\n",
      "memory usage: 354.7+ KB\n"
     ]
    }
   ],
   "source": [
    "children.info()"
   ]
  },
  {
   "cell_type": "code",
   "execution_count": 6,
   "metadata": {},
   "outputs": [],
   "source": [
    "children=children[['vict_age','vict_sex','vict_descent']]"
   ]
  },
  {
   "cell_type": "code",
   "execution_count": 7,
   "metadata": {},
   "outputs": [],
   "source": [
    "X = children\n",
    "X_train, X_test = train_test_split(X, test_size=0.3, random_state=14)"
   ]
  },
  {
   "cell_type": "code",
   "execution_count": 8,
   "metadata": {},
   "outputs": [],
   "source": [
    "# Save data\n",
    "\n",
    "X_train.to_csv(\"../data/processed/child_X_train.csv\", index=False)\n",
    "\n",
    "X_test.to_csv(\"../data/processed/child_X_test.csv\", index=False)"
   ]
  },
  {
   "cell_type": "code",
   "execution_count": 9,
   "metadata": {},
   "outputs": [
    {
     "data": {
      "text/html": [
       "<style>#sk-container-id-1 {color: black;}#sk-container-id-1 pre{padding: 0;}#sk-container-id-1 div.sk-toggleable {background-color: white;}#sk-container-id-1 label.sk-toggleable__label {cursor: pointer;display: block;width: 100%;margin-bottom: 0;padding: 0.3em;box-sizing: border-box;text-align: center;}#sk-container-id-1 label.sk-toggleable__label-arrow:before {content: \"▸\";float: left;margin-right: 0.25em;color: #696969;}#sk-container-id-1 label.sk-toggleable__label-arrow:hover:before {color: black;}#sk-container-id-1 div.sk-estimator:hover label.sk-toggleable__label-arrow:before {color: black;}#sk-container-id-1 div.sk-toggleable__content {max-height: 0;max-width: 0;overflow: hidden;text-align: left;background-color: #f0f8ff;}#sk-container-id-1 div.sk-toggleable__content pre {margin: 0.2em;color: black;border-radius: 0.25em;background-color: #f0f8ff;}#sk-container-id-1 input.sk-toggleable__control:checked~div.sk-toggleable__content {max-height: 200px;max-width: 100%;overflow: auto;}#sk-container-id-1 input.sk-toggleable__control:checked~label.sk-toggleable__label-arrow:before {content: \"▾\";}#sk-container-id-1 div.sk-estimator input.sk-toggleable__control:checked~label.sk-toggleable__label {background-color: #d4ebff;}#sk-container-id-1 div.sk-label input.sk-toggleable__control:checked~label.sk-toggleable__label {background-color: #d4ebff;}#sk-container-id-1 input.sk-hidden--visually {border: 0;clip: rect(1px 1px 1px 1px);clip: rect(1px, 1px, 1px, 1px);height: 1px;margin: -1px;overflow: hidden;padding: 0;position: absolute;width: 1px;}#sk-container-id-1 div.sk-estimator {font-family: monospace;background-color: #f0f8ff;border: 1px dotted black;border-radius: 0.25em;box-sizing: border-box;margin-bottom: 0.5em;}#sk-container-id-1 div.sk-estimator:hover {background-color: #d4ebff;}#sk-container-id-1 div.sk-parallel-item::after {content: \"\";width: 100%;border-bottom: 1px solid gray;flex-grow: 1;}#sk-container-id-1 div.sk-label:hover label.sk-toggleable__label {background-color: #d4ebff;}#sk-container-id-1 div.sk-serial::before {content: \"\";position: absolute;border-left: 1px solid gray;box-sizing: border-box;top: 0;bottom: 0;left: 50%;z-index: 0;}#sk-container-id-1 div.sk-serial {display: flex;flex-direction: column;align-items: center;background-color: white;padding-right: 0.2em;padding-left: 0.2em;position: relative;}#sk-container-id-1 div.sk-item {position: relative;z-index: 1;}#sk-container-id-1 div.sk-parallel {display: flex;align-items: stretch;justify-content: center;background-color: white;position: relative;}#sk-container-id-1 div.sk-item::before, #sk-container-id-1 div.sk-parallel-item::before {content: \"\";position: absolute;border-left: 1px solid gray;box-sizing: border-box;top: 0;bottom: 0;left: 50%;z-index: -1;}#sk-container-id-1 div.sk-parallel-item {display: flex;flex-direction: column;z-index: 1;position: relative;background-color: white;}#sk-container-id-1 div.sk-parallel-item:first-child::after {align-self: flex-end;width: 50%;}#sk-container-id-1 div.sk-parallel-item:last-child::after {align-self: flex-start;width: 50%;}#sk-container-id-1 div.sk-parallel-item:only-child::after {width: 0;}#sk-container-id-1 div.sk-dashed-wrapped {border: 1px dashed gray;margin: 0 0.4em 0.5em 0.4em;box-sizing: border-box;padding-bottom: 0.4em;background-color: white;}#sk-container-id-1 div.sk-label label {font-family: monospace;font-weight: bold;display: inline-block;line-height: 1.2em;}#sk-container-id-1 div.sk-label-container {text-align: center;}#sk-container-id-1 div.sk-container {/* jupyter's `normalize.less` sets `[hidden] { display: none; }` but bootstrap.min.css set `[hidden] { display: none !important; }` so we also need the `!important` here to be able to override the default hidden behavior on the sphinx rendered scikit-learn.org. See: https://github.com/scikit-learn/scikit-learn/issues/21755 */display: inline-block !important;position: relative;}#sk-container-id-1 div.sk-text-repr-fallback {display: none;}</style><div id=\"sk-container-id-1\" class=\"sk-top-container\"><div class=\"sk-text-repr-fallback\"><pre>KMeans(n_clusters=10, n_init=&#x27;auto&#x27;, random_state=14)</pre><b>In a Jupyter environment, please rerun this cell to show the HTML representation or trust the notebook. <br />On GitHub, the HTML representation is unable to render, please try loading this page with nbviewer.org.</b></div><div class=\"sk-container\" hidden><div class=\"sk-item\"><div class=\"sk-estimator sk-toggleable\"><input class=\"sk-toggleable__control sk-hidden--visually\" id=\"sk-estimator-id-1\" type=\"checkbox\" checked><label for=\"sk-estimator-id-1\" class=\"sk-toggleable__label sk-toggleable__label-arrow\">KMeans</label><div class=\"sk-toggleable__content\"><pre>KMeans(n_clusters=10, n_init=&#x27;auto&#x27;, random_state=14)</pre></div></div></div></div></div>"
      ],
      "text/plain": [
       "KMeans(n_clusters=10, n_init='auto', random_state=14)"
      ]
     },
     "execution_count": 9,
     "metadata": {},
     "output_type": "execute_result"
    }
   ],
   "source": [
    "model = KMeans(n_clusters = 10,n_init=\"auto\", random_state = 14)\n",
    "model.fit(X_train)"
   ]
  },
  {
   "cell_type": "code",
   "execution_count": 10,
   "metadata": {},
   "outputs": [],
   "source": [
    "y_train = model.labels_"
   ]
  },
  {
   "cell_type": "code",
   "execution_count": 11,
   "metadata": {},
   "outputs": [],
   "source": [
    "y_test = model.predict(X_test)"
   ]
  },
  {
   "cell_type": "code",
   "execution_count": 12,
   "metadata": {},
   "outputs": [
    {
     "data": {
      "text/html": [
       "<style>#sk-container-id-2 {color: black;}#sk-container-id-2 pre{padding: 0;}#sk-container-id-2 div.sk-toggleable {background-color: white;}#sk-container-id-2 label.sk-toggleable__label {cursor: pointer;display: block;width: 100%;margin-bottom: 0;padding: 0.3em;box-sizing: border-box;text-align: center;}#sk-container-id-2 label.sk-toggleable__label-arrow:before {content: \"▸\";float: left;margin-right: 0.25em;color: #696969;}#sk-container-id-2 label.sk-toggleable__label-arrow:hover:before {color: black;}#sk-container-id-2 div.sk-estimator:hover label.sk-toggleable__label-arrow:before {color: black;}#sk-container-id-2 div.sk-toggleable__content {max-height: 0;max-width: 0;overflow: hidden;text-align: left;background-color: #f0f8ff;}#sk-container-id-2 div.sk-toggleable__content pre {margin: 0.2em;color: black;border-radius: 0.25em;background-color: #f0f8ff;}#sk-container-id-2 input.sk-toggleable__control:checked~div.sk-toggleable__content {max-height: 200px;max-width: 100%;overflow: auto;}#sk-container-id-2 input.sk-toggleable__control:checked~label.sk-toggleable__label-arrow:before {content: \"▾\";}#sk-container-id-2 div.sk-estimator input.sk-toggleable__control:checked~label.sk-toggleable__label {background-color: #d4ebff;}#sk-container-id-2 div.sk-label input.sk-toggleable__control:checked~label.sk-toggleable__label {background-color: #d4ebff;}#sk-container-id-2 input.sk-hidden--visually {border: 0;clip: rect(1px 1px 1px 1px);clip: rect(1px, 1px, 1px, 1px);height: 1px;margin: -1px;overflow: hidden;padding: 0;position: absolute;width: 1px;}#sk-container-id-2 div.sk-estimator {font-family: monospace;background-color: #f0f8ff;border: 1px dotted black;border-radius: 0.25em;box-sizing: border-box;margin-bottom: 0.5em;}#sk-container-id-2 div.sk-estimator:hover {background-color: #d4ebff;}#sk-container-id-2 div.sk-parallel-item::after {content: \"\";width: 100%;border-bottom: 1px solid gray;flex-grow: 1;}#sk-container-id-2 div.sk-label:hover label.sk-toggleable__label {background-color: #d4ebff;}#sk-container-id-2 div.sk-serial::before {content: \"\";position: absolute;border-left: 1px solid gray;box-sizing: border-box;top: 0;bottom: 0;left: 50%;z-index: 0;}#sk-container-id-2 div.sk-serial {display: flex;flex-direction: column;align-items: center;background-color: white;padding-right: 0.2em;padding-left: 0.2em;position: relative;}#sk-container-id-2 div.sk-item {position: relative;z-index: 1;}#sk-container-id-2 div.sk-parallel {display: flex;align-items: stretch;justify-content: center;background-color: white;position: relative;}#sk-container-id-2 div.sk-item::before, #sk-container-id-2 div.sk-parallel-item::before {content: \"\";position: absolute;border-left: 1px solid gray;box-sizing: border-box;top: 0;bottom: 0;left: 50%;z-index: -1;}#sk-container-id-2 div.sk-parallel-item {display: flex;flex-direction: column;z-index: 1;position: relative;background-color: white;}#sk-container-id-2 div.sk-parallel-item:first-child::after {align-self: flex-end;width: 50%;}#sk-container-id-2 div.sk-parallel-item:last-child::after {align-self: flex-start;width: 50%;}#sk-container-id-2 div.sk-parallel-item:only-child::after {width: 0;}#sk-container-id-2 div.sk-dashed-wrapped {border: 1px dashed gray;margin: 0 0.4em 0.5em 0.4em;box-sizing: border-box;padding-bottom: 0.4em;background-color: white;}#sk-container-id-2 div.sk-label label {font-family: monospace;font-weight: bold;display: inline-block;line-height: 1.2em;}#sk-container-id-2 div.sk-label-container {text-align: center;}#sk-container-id-2 div.sk-container {/* jupyter's `normalize.less` sets `[hidden] { display: none; }` but bootstrap.min.css set `[hidden] { display: none !important; }` so we also need the `!important` here to be able to override the default hidden behavior on the sphinx rendered scikit-learn.org. See: https://github.com/scikit-learn/scikit-learn/issues/21755 */display: inline-block !important;position: relative;}#sk-container-id-2 div.sk-text-repr-fallback {display: none;}</style><div id=\"sk-container-id-2\" class=\"sk-top-container\"><div class=\"sk-text-repr-fallback\"><pre>KNeighborsClassifier()</pre><b>In a Jupyter environment, please rerun this cell to show the HTML representation or trust the notebook. <br />On GitHub, the HTML representation is unable to render, please try loading this page with nbviewer.org.</b></div><div class=\"sk-container\" hidden><div class=\"sk-item\"><div class=\"sk-estimator sk-toggleable\"><input class=\"sk-toggleable__control sk-hidden--visually\" id=\"sk-estimator-id-2\" type=\"checkbox\" checked><label for=\"sk-estimator-id-2\" class=\"sk-toggleable__label sk-toggleable__label-arrow\">KNeighborsClassifier</label><div class=\"sk-toggleable__content\"><pre>KNeighborsClassifier()</pre></div></div></div></div></div>"
      ],
      "text/plain": [
       "KNeighborsClassifier()"
      ]
     },
     "execution_count": 12,
     "metadata": {},
     "output_type": "execute_result"
    }
   ],
   "source": [
    "knn_model = KNeighborsClassifier()\n",
    "knn_model.fit(X_train, y_train)"
   ]
  },
  {
   "cell_type": "code",
   "execution_count": 13,
   "metadata": {},
   "outputs": [],
   "source": [
    "y_pred = knn_model.predict(X_train)"
   ]
  },
  {
   "cell_type": "code",
   "execution_count": 14,
   "metadata": {},
   "outputs": [
    {
     "data": {
      "text/plain": [
       "0.9994649545211343"
      ]
     },
     "execution_count": 14,
     "metadata": {},
     "output_type": "execute_result"
    }
   ],
   "source": [
    "accuracy_score(y_train, y_pred)"
   ]
  },
  {
   "cell_type": "code",
   "execution_count": 15,
   "metadata": {},
   "outputs": [],
   "source": [
    "y_pred_test = knn_model.predict(X_test)"
   ]
  },
  {
   "cell_type": "code",
   "execution_count": 16,
   "metadata": {},
   "outputs": [
    {
     "data": {
      "text/plain": [
       "0.9975062344139651"
      ]
     },
     "execution_count": 16,
     "metadata": {},
     "output_type": "execute_result"
    }
   ],
   "source": [
    "accuracy_score(y_test, y_pred_test)"
   ]
  },
  {
   "cell_type": "code",
   "execution_count": 17,
   "metadata": {},
   "outputs": [
    {
     "data": {
      "image/png": "[encoded data removed]",
      "text/plain": [
       "<Figure size 700x700 with 1 Axes>"
      ]
     },
     "metadata": {},
     "output_type": "display_data"
    }
   ],
   "source": [
    "child_cm = confusion_matrix(y_test, y_pred_test)\n",
    "\n",
    "# Let's draw this matrix to make it more visual\n",
    "cm_df = pd.DataFrame(child_cm)\n",
    "\n",
    "plt.figure(figsize = (7, 7))\n",
    "sns.heatmap(cm_df, annot=True, fmt=\"d\", cbar=False)\n",
    "\n",
    "plt.tight_layout()\n",
    "\n",
    "plt.show()"
   ]
  },
  {
   "cell_type": "code",
   "execution_count": 18,
   "metadata": {},
   "outputs": [
    {
     "name": "stdout",
     "output_type": "stream",
     "text": [
      "KNeighborsClassifier(metric='euclidean', n_neighbors=3)\n",
      "Combination: {'algorithm': 'auto', 'metric': 'euclidean', 'n_neighbors': 3, 'weights': 'uniform'}\n",
      "Accuracy: 0.9978598180845372\n",
      "KNeighborsClassifier(metric='euclidean', n_neighbors=3, weights='distance')\n",
      "Combination: {'algorithm': 'auto', 'metric': 'euclidean', 'n_neighbors': 3, 'weights': 'distance'}\n",
      "Accuracy: 1.0\n",
      "KNeighborsClassifier(metric='euclidean')\n",
      "Combination: {'algorithm': 'auto', 'metric': 'euclidean', 'n_neighbors': 5, 'weights': 'uniform'}\n",
      "Accuracy: 0.9994649545211343\n",
      "KNeighborsClassifier(metric='euclidean', weights='distance')\n",
      "Combination: {'algorithm': 'auto', 'metric': 'euclidean', 'n_neighbors': 5, 'weights': 'distance'}\n",
      "Accuracy: 1.0\n",
      "KNeighborsClassifier(metric='euclidean', n_neighbors=7)\n",
      "Combination: {'algorithm': 'auto', 'metric': 'euclidean', 'n_neighbors': 7, 'weights': 'uniform'}\n",
      "Accuracy: 0.9983948635634029\n",
      "KNeighborsClassifier(metric='euclidean', n_neighbors=7, weights='distance')\n",
      "Combination: {'algorithm': 'auto', 'metric': 'euclidean', 'n_neighbors': 7, 'weights': 'distance'}\n",
      "Accuracy: 1.0\n",
      "KNeighborsClassifier(metric='manhattan', n_neighbors=3)\n",
      "Combination: {'algorithm': 'auto', 'metric': 'manhattan', 'n_neighbors': 3, 'weights': 'uniform'}\n",
      "Accuracy: 0.9978598180845372\n",
      "KNeighborsClassifier(metric='manhattan', n_neighbors=3, weights='distance')\n",
      "Combination: {'algorithm': 'auto', 'metric': 'manhattan', 'n_neighbors': 3, 'weights': 'distance'}\n",
      "Accuracy: 1.0\n",
      "KNeighborsClassifier(metric='manhattan')\n",
      "Combination: {'algorithm': 'auto', 'metric': 'manhattan', 'n_neighbors': 5, 'weights': 'uniform'}\n",
      "Accuracy: 0.9989299090422686\n",
      "KNeighborsClassifier(metric='manhattan', weights='distance')\n",
      "Combination: {'algorithm': 'auto', 'metric': 'manhattan', 'n_neighbors': 5, 'weights': 'distance'}\n",
      "Accuracy: 1.0\n",
      "KNeighborsClassifier(metric='manhattan', n_neighbors=7)\n",
      "Combination: {'algorithm': 'auto', 'metric': 'manhattan', 'n_neighbors': 7, 'weights': 'uniform'}\n",
      "Accuracy: 0.9989299090422686\n",
      "KNeighborsClassifier(metric='manhattan', n_neighbors=7, weights='distance')\n",
      "Combination: {'algorithm': 'auto', 'metric': 'manhattan', 'n_neighbors': 7, 'weights': 'distance'}\n",
      "Accuracy: 1.0\n",
      "KNeighborsClassifier(metric='cityblock', n_neighbors=3)\n",
      "Combination: {'algorithm': 'auto', 'metric': 'cityblock', 'n_neighbors': 3, 'weights': 'uniform'}\n",
      "Accuracy: 0.9978598180845372\n",
      "KNeighborsClassifier(metric='cityblock', n_neighbors=3, weights='distance')\n",
      "Combination: {'algorithm': 'auto', 'metric': 'cityblock', 'n_neighbors': 3, 'weights': 'distance'}\n",
      "Accuracy: 1.0\n",
      "KNeighborsClassifier(metric='cityblock')\n",
      "Combination: {'algorithm': 'auto', 'metric': 'cityblock', 'n_neighbors': 5, 'weights': 'uniform'}\n",
      "Accuracy: 0.9989299090422686\n",
      "KNeighborsClassifier(metric='cityblock', weights='distance')\n",
      "Combination: {'algorithm': 'auto', 'metric': 'cityblock', 'n_neighbors': 5, 'weights': 'distance'}\n",
      "Accuracy: 1.0\n",
      "KNeighborsClassifier(metric='cityblock', n_neighbors=7)\n",
      "Combination: {'algorithm': 'auto', 'metric': 'cityblock', 'n_neighbors': 7, 'weights': 'uniform'}\n",
      "Accuracy: 0.9989299090422686\n",
      "KNeighborsClassifier(metric='cityblock', n_neighbors=7, weights='distance')\n",
      "Combination: {'algorithm': 'auto', 'metric': 'cityblock', 'n_neighbors': 7, 'weights': 'distance'}\n",
      "Accuracy: 1.0\n",
      "KNeighborsClassifier(n_neighbors=3)\n",
      "Combination: {'algorithm': 'auto', 'metric': 'minkowski', 'n_neighbors': 3, 'weights': 'uniform'}\n",
      "Accuracy: 0.9978598180845372\n",
      "KNeighborsClassifier(n_neighbors=3, weights='distance')\n",
      "Combination: {'algorithm': 'auto', 'metric': 'minkowski', 'n_neighbors': 3, 'weights': 'distance'}\n",
      "Accuracy: 1.0\n",
      "KNeighborsClassifier()\n",
      "Combination: {'algorithm': 'auto', 'metric': 'minkowski', 'n_neighbors': 5, 'weights': 'uniform'}\n",
      "Accuracy: 0.9994649545211343\n",
      "KNeighborsClassifier(weights='distance')\n",
      "Combination: {'algorithm': 'auto', 'metric': 'minkowski', 'n_neighbors': 5, 'weights': 'distance'}\n",
      "Accuracy: 1.0\n",
      "KNeighborsClassifier(n_neighbors=7)\n",
      "Combination: {'algorithm': 'auto', 'metric': 'minkowski', 'n_neighbors': 7, 'weights': 'uniform'}\n",
      "Accuracy: 0.9983948635634029\n",
      "KNeighborsClassifier(n_neighbors=7, weights='distance')\n",
      "Combination: {'algorithm': 'auto', 'metric': 'minkowski', 'n_neighbors': 7, 'weights': 'distance'}\n",
      "Accuracy: 1.0\n",
      "KNeighborsClassifier(algorithm='kd_tree', metric='euclidean', n_neighbors=3)\n",
      "Combination: {'algorithm': 'kd_tree', 'metric': 'euclidean', 'n_neighbors': 3, 'weights': 'uniform'}\n",
      "Accuracy: 0.9978598180845372\n",
      "KNeighborsClassifier(algorithm='kd_tree', metric='euclidean', n_neighbors=3,\n",
      "                     weights='distance')\n",
      "Combination: {'algorithm': 'kd_tree', 'metric': 'euclidean', 'n_neighbors': 3, 'weights': 'distance'}\n",
      "Accuracy: 1.0\n",
      "KNeighborsClassifier(algorithm='kd_tree', metric='euclidean')\n",
      "Combination: {'algorithm': 'kd_tree', 'metric': 'euclidean', 'n_neighbors': 5, 'weights': 'uniform'}\n",
      "Accuracy: 0.9994649545211343\n",
      "KNeighborsClassifier(algorithm='kd_tree', metric='euclidean',\n",
      "                     weights='distance')\n",
      "Combination: {'algorithm': 'kd_tree', 'metric': 'euclidean', 'n_neighbors': 5, 'weights': 'distance'}\n",
      "Accuracy: 1.0\n",
      "KNeighborsClassifier(algorithm='kd_tree', metric='euclidean', n_neighbors=7)\n",
      "Combination: {'algorithm': 'kd_tree', 'metric': 'euclidean', 'n_neighbors': 7, 'weights': 'uniform'}\n",
      "Accuracy: 0.9983948635634029\n",
      "KNeighborsClassifier(algorithm='kd_tree', metric='euclidean', n_neighbors=7,\n",
      "                     weights='distance')\n",
      "Combination: {'algorithm': 'kd_tree', 'metric': 'euclidean', 'n_neighbors': 7, 'weights': 'distance'}\n",
      "Accuracy: 1.0\n",
      "KNeighborsClassifier(algorithm='kd_tree', metric='manhattan', n_neighbors=3)\n",
      "Combination: {'algorithm': 'kd_tree', 'metric': 'manhattan', 'n_neighbors': 3, 'weights': 'uniform'}\n",
      "Accuracy: 0.9978598180845372\n",
      "KNeighborsClassifier(algorithm='kd_tree', metric='manhattan', n_neighbors=3,\n",
      "                     weights='distance')\n",
      "Combination: {'algorithm': 'kd_tree', 'metric': 'manhattan', 'n_neighbors': 3, 'weights': 'distance'}\n",
      "Accuracy: 1.0\n",
      "KNeighborsClassifier(algorithm='kd_tree', metric='manhattan')\n",
      "Combination: {'algorithm': 'kd_tree', 'metric': 'manhattan', 'n_neighbors': 5, 'weights': 'uniform'}\n",
      "Accuracy: 0.9989299090422686\n",
      "KNeighborsClassifier(algorithm='kd_tree', metric='manhattan',\n",
      "                     weights='distance')\n",
      "Combination: {'algorithm': 'kd_tree', 'metric': 'manhattan', 'n_neighbors': 5, 'weights': 'distance'}\n",
      "Accuracy: 1.0\n",
      "KNeighborsClassifier(algorithm='kd_tree', metric='manhattan', n_neighbors=7)\n",
      "Combination: {'algorithm': 'kd_tree', 'metric': 'manhattan', 'n_neighbors': 7, 'weights': 'uniform'}\n",
      "Accuracy: 0.9989299090422686\n",
      "KNeighborsClassifier(algorithm='kd_tree', metric='manhattan', n_neighbors=7,\n",
      "                     weights='distance')\n",
      "Combination: {'algorithm': 'kd_tree', 'metric': 'manhattan', 'n_neighbors': 7, 'weights': 'distance'}\n",
      "Accuracy: 1.0\n",
      "KNeighborsClassifier(algorithm='kd_tree', metric='cityblock', n_neighbors=3)\n",
      "Combination: {'algorithm': 'kd_tree', 'metric': 'cityblock', 'n_neighbors': 3, 'weights': 'uniform'}\n",
      "Accuracy: 0.9978598180845372\n",
      "KNeighborsClassifier(algorithm='kd_tree', metric='cityblock', n_neighbors=3,\n",
      "                     weights='distance')\n",
      "Combination: {'algorithm': 'kd_tree', 'metric': 'cityblock', 'n_neighbors': 3, 'weights': 'distance'}\n",
      "Accuracy: 1.0\n",
      "KNeighborsClassifier(algorithm='kd_tree', metric='cityblock')\n",
      "Combination: {'algorithm': 'kd_tree', 'metric': 'cityblock', 'n_neighbors': 5, 'weights': 'uniform'}\n",
      "Accuracy: 0.9989299090422686\n",
      "KNeighborsClassifier(algorithm='kd_tree', metric='cityblock',\n",
      "                     weights='distance')\n",
      "Combination: {'algorithm': 'kd_tree', 'metric': 'cityblock', 'n_neighbors': 5, 'weights': 'distance'}\n",
      "Accuracy: 1.0\n",
      "KNeighborsClassifier(algorithm='kd_tree', metric='cityblock', n_neighbors=7)\n",
      "Combination: {'algorithm': 'kd_tree', 'metric': 'cityblock', 'n_neighbors': 7, 'weights': 'uniform'}\n",
      "Accuracy: 0.9989299090422686\n",
      "KNeighborsClassifier(algorithm='kd_tree', metric='cityblock', n_neighbors=7,\n",
      "                     weights='distance')\n",
      "Combination: {'algorithm': 'kd_tree', 'metric': 'cityblock', 'n_neighbors': 7, 'weights': 'distance'}\n",
      "Accuracy: 1.0\n",
      "KNeighborsClassifier(algorithm='kd_tree', n_neighbors=3)\n",
      "Combination: {'algorithm': 'kd_tree', 'metric': 'minkowski', 'n_neighbors': 3, 'weights': 'uniform'}\n",
      "Accuracy: 0.9978598180845372\n",
      "KNeighborsClassifier(algorithm='kd_tree', n_neighbors=3, weights='distance')\n",
      "Combination: {'algorithm': 'kd_tree', 'metric': 'minkowski', 'n_neighbors': 3, 'weights': 'distance'}\n",
      "Accuracy: 1.0\n",
      "KNeighborsClassifier(algorithm='kd_tree')\n",
      "Combination: {'algorithm': 'kd_tree', 'metric': 'minkowski', 'n_neighbors': 5, 'weights': 'uniform'}\n",
      "Accuracy: 0.9994649545211343\n",
      "KNeighborsClassifier(algorithm='kd_tree', weights='distance')\n",
      "Combination: {'algorithm': 'kd_tree', 'metric': 'minkowski', 'n_neighbors': 5, 'weights': 'distance'}\n",
      "Accuracy: 1.0\n",
      "KNeighborsClassifier(algorithm='kd_tree', n_neighbors=7)\n",
      "Combination: {'algorithm': 'kd_tree', 'metric': 'minkowski', 'n_neighbors': 7, 'weights': 'uniform'}\n",
      "Accuracy: 0.9983948635634029\n",
      "KNeighborsClassifier(algorithm='kd_tree', n_neighbors=7, weights='distance')\n",
      "Combination: {'algorithm': 'kd_tree', 'metric': 'minkowski', 'n_neighbors': 7, 'weights': 'distance'}\n",
      "Accuracy: 1.0\n",
      "KNeighborsClassifier(algorithm='brute', metric='euclidean', n_neighbors=3)\n",
      "Combination: {'algorithm': 'brute', 'metric': 'euclidean', 'n_neighbors': 3, 'weights': 'uniform'}\n",
      "Accuracy: 0.9994649545211343\n",
      "KNeighborsClassifier(algorithm='brute', metric='euclidean', n_neighbors=3,\n",
      "                     weights='distance')\n",
      "Combination: {'algorithm': 'brute', 'metric': 'euclidean', 'n_neighbors': 3, 'weights': 'distance'}\n",
      "Accuracy: 1.0\n",
      "KNeighborsClassifier(algorithm='brute', metric='euclidean')\n",
      "Combination: {'algorithm': 'brute', 'metric': 'euclidean', 'n_neighbors': 5, 'weights': 'uniform'}\n",
      "Accuracy: 1.0\n",
      "KNeighborsClassifier(algorithm='brute', metric='euclidean', weights='distance')\n",
      "Combination: {'algorithm': 'brute', 'metric': 'euclidean', 'n_neighbors': 5, 'weights': 'distance'}\n",
      "Accuracy: 1.0\n",
      "KNeighborsClassifier(algorithm='brute', metric='euclidean', n_neighbors=7)\n",
      "Combination: {'algorithm': 'brute', 'metric': 'euclidean', 'n_neighbors': 7, 'weights': 'uniform'}\n",
      "Accuracy: 0.9994649545211343\n",
      "KNeighborsClassifier(algorithm='brute', metric='euclidean', n_neighbors=7,\n",
      "                     weights='distance')\n",
      "Combination: {'algorithm': 'brute', 'metric': 'euclidean', 'n_neighbors': 7, 'weights': 'distance'}\n",
      "Accuracy: 1.0\n",
      "KNeighborsClassifier(algorithm='brute', metric='manhattan', n_neighbors=3)\n",
      "Combination: {'algorithm': 'brute', 'metric': 'manhattan', 'n_neighbors': 3, 'weights': 'uniform'}\n",
      "Accuracy: 0.9994649545211343\n",
      "KNeighborsClassifier(algorithm='brute', metric='manhattan', n_neighbors=3,\n",
      "                     weights='distance')\n",
      "Combination: {'algorithm': 'brute', 'metric': 'manhattan', 'n_neighbors': 3, 'weights': 'distance'}\n",
      "Accuracy: 1.0\n",
      "KNeighborsClassifier(algorithm='brute', metric='manhattan')\n",
      "Combination: {'algorithm': 'brute', 'metric': 'manhattan', 'n_neighbors': 5, 'weights': 'uniform'}\n",
      "Accuracy: 0.9989299090422686\n",
      "KNeighborsClassifier(algorithm='brute', metric='manhattan', weights='distance')\n",
      "Combination: {'algorithm': 'brute', 'metric': 'manhattan', 'n_neighbors': 5, 'weights': 'distance'}\n",
      "Accuracy: 1.0\n",
      "KNeighborsClassifier(algorithm='brute', metric='manhattan', n_neighbors=7)\n",
      "Combination: {'algorithm': 'brute', 'metric': 'manhattan', 'n_neighbors': 7, 'weights': 'uniform'}\n",
      "Accuracy: 0.9978598180845372\n",
      "KNeighborsClassifier(algorithm='brute', metric='manhattan', n_neighbors=7,\n",
      "                     weights='distance')\n",
      "Combination: {'algorithm': 'brute', 'metric': 'manhattan', 'n_neighbors': 7, 'weights': 'distance'}\n",
      "Accuracy: 1.0\n",
      "KNeighborsClassifier(algorithm='brute', metric='cityblock', n_neighbors=3)\n",
      "Combination: {'algorithm': 'brute', 'metric': 'cityblock', 'n_neighbors': 3, 'weights': 'uniform'}\n",
      "Accuracy: 0.9994649545211343\n",
      "KNeighborsClassifier(algorithm='brute', metric='cityblock', n_neighbors=3,\n",
      "                     weights='distance')\n",
      "Combination: {'algorithm': 'brute', 'metric': 'cityblock', 'n_neighbors': 3, 'weights': 'distance'}\n",
      "Accuracy: 1.0\n",
      "KNeighborsClassifier(algorithm='brute', metric='cityblock')\n",
      "Combination: {'algorithm': 'brute', 'metric': 'cityblock', 'n_neighbors': 5, 'weights': 'uniform'}\n",
      "Accuracy: 0.9989299090422686\n",
      "KNeighborsClassifier(algorithm='brute', metric='cityblock', weights='distance')\n",
      "Combination: {'algorithm': 'brute', 'metric': 'cityblock', 'n_neighbors': 5, 'weights': 'distance'}\n",
      "Accuracy: 1.0\n",
      "KNeighborsClassifier(algorithm='brute', metric='cityblock', n_neighbors=7)\n",
      "Combination: {'algorithm': 'brute', 'metric': 'cityblock', 'n_neighbors': 7, 'weights': 'uniform'}\n",
      "Accuracy: 0.9978598180845372\n",
      "KNeighborsClassifier(algorithm='brute', metric='cityblock', n_neighbors=7,\n",
      "                     weights='distance')\n",
      "Combination: {'algorithm': 'brute', 'metric': 'cityblock', 'n_neighbors': 7, 'weights': 'distance'}\n",
      "Accuracy: 1.0\n",
      "KNeighborsClassifier(algorithm='brute', n_neighbors=3)\n",
      "Combination: {'algorithm': 'brute', 'metric': 'minkowski', 'n_neighbors': 3, 'weights': 'uniform'}\n",
      "Accuracy: 0.9994649545211343\n",
      "KNeighborsClassifier(algorithm='brute', n_neighbors=3, weights='distance')\n",
      "Combination: {'algorithm': 'brute', 'metric': 'minkowski', 'n_neighbors': 3, 'weights': 'distance'}\n",
      "Accuracy: 1.0\n",
      "KNeighborsClassifier(algorithm='brute')\n",
      "Combination: {'algorithm': 'brute', 'metric': 'minkowski', 'n_neighbors': 5, 'weights': 'uniform'}\n",
      "Accuracy: 1.0\n",
      "KNeighborsClassifier(algorithm='brute', weights='distance')\n",
      "Combination: {'algorithm': 'brute', 'metric': 'minkowski', 'n_neighbors': 5, 'weights': 'distance'}\n",
      "Accuracy: 1.0\n",
      "KNeighborsClassifier(algorithm='brute', n_neighbors=7)\n",
      "Combination: {'algorithm': 'brute', 'metric': 'minkowski', 'n_neighbors': 7, 'weights': 'uniform'}\n",
      "Accuracy: 0.9994649545211343\n",
      "KNeighborsClassifier(algorithm='brute', n_neighbors=7, weights='distance')\n",
      "Combination: {'algorithm': 'brute', 'metric': 'minkowski', 'n_neighbors': 7, 'weights': 'distance'}\n",
      "Accuracy: 1.0\n",
      "Best Combination: {'algorithm': 'auto', 'metric': 'euclidean', 'n_neighbors': 3, 'weights': 'distance'}\n",
      "Best Accuracy: 1.0\n"
     ]
    }
   ],
   "source": [
    "best_accuracy = 0\n",
    "best_combination = None\n",
    "\n",
    "param_grid  = {\n",
    "    \"n_neighbors\":[3,5,7],\n",
    "    \"weights\": [\"uniform\",\"distance\"],\n",
    "    \"algorithm\": [\"auto\", \"kd_tree\", \"brute\"], \n",
    "    'metric':[\"euclidean\",\"manhattan\",\"cityblock\",\"minkowski\"]\n",
    "    \n",
    "}\n",
    "\n",
    "for combination in ParameterGrid(param_grid):\n",
    "    model = KNeighborsClassifier(**combination)\n",
    "    print(model)\n",
    "    model.fit(X_train, y_train)   \n",
    "    y_pred = model.predict(X_train)\n",
    "    acc = accuracy_score(y_train, y_pred)\n",
    "    print(\"Combination:\", combination)\n",
    "    print(\"Accuracy:\", acc)\n",
    "    \n",
    "    if acc > best_accuracy:\n",
    "        best_accuracy = acc\n",
    "        best_combination = combination\n",
    "        \n",
    "print(\"Best Combination:\", best_combination)\n",
    "print(\"Best Accuracy:\", best_accuracy)"
   ]
  },
  {
   "cell_type": "code",
   "execution_count": 19,
   "metadata": {},
   "outputs": [
    {
     "data": {
      "text/plain": [
       "{'algorithm': 'auto',\n",
       " 'metric': 'euclidean',\n",
       " 'n_neighbors': 3,\n",
       " 'weights': 'distance'}"
      ]
     },
     "execution_count": 19,
     "metadata": {},
     "output_type": "execute_result"
    }
   ],
   "source": [
    "best_combination"
   ]
  },
  {
   "cell_type": "code",
   "execution_count": 20,
   "metadata": {},
   "outputs": [
    {
     "data": {
      "text/html": [
       "<style>#sk-container-id-3 {color: black;}#sk-container-id-3 pre{padding: 0;}#sk-container-id-3 div.sk-toggleable {background-color: white;}#sk-container-id-3 label.sk-toggleable__label {cursor: pointer;display: block;width: 100%;margin-bottom: 0;padding: 0.3em;box-sizing: border-box;text-align: center;}#sk-container-id-3 label.sk-toggleable__label-arrow:before {content: \"▸\";float: left;margin-right: 0.25em;color: #696969;}#sk-container-id-3 label.sk-toggleable__label-arrow:hover:before {color: black;}#sk-container-id-3 div.sk-estimator:hover label.sk-toggleable__label-arrow:before {color: black;}#sk-container-id-3 div.sk-toggleable__content {max-height: 0;max-width: 0;overflow: hidden;text-align: left;background-color: #f0f8ff;}#sk-container-id-3 div.sk-toggleable__content pre {margin: 0.2em;color: black;border-radius: 0.25em;background-color: #f0f8ff;}#sk-container-id-3 input.sk-toggleable__control:checked~div.sk-toggleable__content {max-height: 200px;max-width: 100%;overflow: auto;}#sk-container-id-3 input.sk-toggleable__control:checked~label.sk-toggleable__label-arrow:before {content: \"▾\";}#sk-container-id-3 div.sk-estimator input.sk-toggleable__control:checked~label.sk-toggleable__label {background-color: #d4ebff;}#sk-container-id-3 div.sk-label input.sk-toggleable__control:checked~label.sk-toggleable__label {background-color: #d4ebff;}#sk-container-id-3 input.sk-hidden--visually {border: 0;clip: rect(1px 1px 1px 1px);clip: rect(1px, 1px, 1px, 1px);height: 1px;margin: -1px;overflow: hidden;padding: 0;position: absolute;width: 1px;}#sk-container-id-3 div.sk-estimator {font-family: monospace;background-color: #f0f8ff;border: 1px dotted black;border-radius: 0.25em;box-sizing: border-box;margin-bottom: 0.5em;}#sk-container-id-3 div.sk-estimator:hover {background-color: #d4ebff;}#sk-container-id-3 div.sk-parallel-item::after {content: \"\";width: 100%;border-bottom: 1px solid gray;flex-grow: 1;}#sk-container-id-3 div.sk-label:hover label.sk-toggleable__label {background-color: #d4ebff;}#sk-container-id-3 div.sk-serial::before {content: \"\";position: absolute;border-left: 1px solid gray;box-sizing: border-box;top: 0;bottom: 0;left: 50%;z-index: 0;}#sk-container-id-3 div.sk-serial {display: flex;flex-direction: column;align-items: center;background-color: white;padding-right: 0.2em;padding-left: 0.2em;position: relative;}#sk-container-id-3 div.sk-item {position: relative;z-index: 1;}#sk-container-id-3 div.sk-parallel {display: flex;align-items: stretch;justify-content: center;background-color: white;position: relative;}#sk-container-id-3 div.sk-item::before, #sk-container-id-3 div.sk-parallel-item::before {content: \"\";position: absolute;border-left: 1px solid gray;box-sizing: border-box;top: 0;bottom: 0;left: 50%;z-index: -1;}#sk-container-id-3 div.sk-parallel-item {display: flex;flex-direction: column;z-index: 1;position: relative;background-color: white;}#sk-container-id-3 div.sk-parallel-item:first-child::after {align-self: flex-end;width: 50%;}#sk-container-id-3 div.sk-parallel-item:last-child::after {align-self: flex-start;width: 50%;}#sk-container-id-3 div.sk-parallel-item:only-child::after {width: 0;}#sk-container-id-3 div.sk-dashed-wrapped {border: 1px dashed gray;margin: 0 0.4em 0.5em 0.4em;box-sizing: border-box;padding-bottom: 0.4em;background-color: white;}#sk-container-id-3 div.sk-label label {font-family: monospace;font-weight: bold;display: inline-block;line-height: 1.2em;}#sk-container-id-3 div.sk-label-container {text-align: center;}#sk-container-id-3 div.sk-container {/* jupyter's `normalize.less` sets `[hidden] { display: none; }` but bootstrap.min.css set `[hidden] { display: none !important; }` so we also need the `!important` here to be able to override the default hidden behavior on the sphinx rendered scikit-learn.org. See: https://github.com/scikit-learn/scikit-learn/issues/21755 */display: inline-block !important;position: relative;}#sk-container-id-3 div.sk-text-repr-fallback {display: none;}</style><div id=\"sk-container-id-3\" class=\"sk-top-container\"><div class=\"sk-text-repr-fallback\"><pre>KNeighborsClassifier(metric=&#x27;euclidean&#x27;, n_neighbors=3, weights=&#x27;distance&#x27;)</pre><b>In a Jupyter environment, please rerun this cell to show the HTML representation or trust the notebook. <br />On GitHub, the HTML representation is unable to render, please try loading this page with nbviewer.org.</b></div><div class=\"sk-container\" hidden><div class=\"sk-item\"><div class=\"sk-estimator sk-toggleable\"><input class=\"sk-toggleable__control sk-hidden--visually\" id=\"sk-estimator-id-3\" type=\"checkbox\" checked><label for=\"sk-estimator-id-3\" class=\"sk-toggleable__label sk-toggleable__label-arrow\">KNeighborsClassifier</label><div class=\"sk-toggleable__content\"><pre>KNeighborsClassifier(metric=&#x27;euclidean&#x27;, n_neighbors=3, weights=&#x27;distance&#x27;)</pre></div></div></div></div></div>"
      ],
      "text/plain": [
       "KNeighborsClassifier(metric='euclidean', n_neighbors=3, weights='distance')"
      ]
     },
     "execution_count": 20,
     "metadata": {},
     "output_type": "execute_result"
    }
   ],
   "source": [
    "best_model = KNeighborsClassifier(**best_combination)\n",
    "best_model.fit(X_train, y_train)"
   ]
  },
  {
   "cell_type": "code",
   "execution_count": 21,
   "metadata": {},
   "outputs": [],
   "source": [
    "y_pred = best_model.predict(X_train)"
   ]
  },
  {
   "cell_type": "code",
   "execution_count": 22,
   "metadata": {},
   "outputs": [
    {
     "data": {
      "text/plain": [
       "1.0"
      ]
     },
     "execution_count": 22,
     "metadata": {},
     "output_type": "execute_result"
    }
   ],
   "source": [
    "accuracy_score(y_train, y_pred)"
   ]
  },
  {
   "cell_type": "code",
   "execution_count": 23,
   "metadata": {},
   "outputs": [],
   "source": [
    "y_pred_test = best_model.predict(X_test)"
   ]
  },
  {
   "cell_type": "code",
   "execution_count": 24,
   "metadata": {},
   "outputs": [
    {
     "data": {
      "text/plain": [
       "0.9962593516209476"
      ]
     },
     "execution_count": 24,
     "metadata": {},
     "output_type": "execute_result"
    }
   ],
   "source": [
    "accuracy_score(y_test, y_pred_test)"
   ]
  },
  {
   "cell_type": "code",
   "execution_count": 25,
   "metadata": {},
   "outputs": [
    {
     "data": {
      "image/png": "[encoded data removed]",
      "text/plain": [
       "<Figure size 700x700 with 1 Axes>"
      ]
     },
     "metadata": {},
     "output_type": "display_data"
    }
   ],
   "source": [
    "\n",
    "child_cm = confusion_matrix(y_test, y_pred_test)\n",
    "\n",
    "# Let's draw this matrix to make it more visual\n",
    "cm_df = pd.DataFrame(child_cm)\n",
    "\n",
    "plt.figure(figsize = (7, 7))\n",
    "sns.heatmap(cm_df, annot=True, fmt=\"d\", cbar=False)\n",
    "\n",
    "plt.tight_layout()\n",
    "\n",
    "plt.show()"
   ]
  },
  {
   "cell_type": "markdown",
   "metadata": {},
   "source": [
    "Conclusion:\n",
    "\n",
    "Commencing the K-means model without normalizing the data to obtain our target (Aggressor Profiles), we observed a good distribution in the clusters. Consequently, we proceeded to implement a supervised KNN model to predict future events.\n",
    "\n",
    "Following model optimization, we achieved a near to 1.0 accuracy, signifying a strong model performance. This suggests that there is no need to repeat the process with normalized data, as the accuracy is already optimal."
   ]
  },
  {
   "cell_type": "code",
   "execution_count": 26,
   "metadata": {},
   "outputs": [
    {
     "name": "stdout",
     "output_type": "stream",
     "text": [
      "El elemento 0 se repite 30 veces en el array.\n",
      "El elemento 1 se repite 79 veces en el array.\n",
      "El elemento 2 se repite 184 veces en el array.\n",
      "El elemento 3 se repite 72 veces en el array.\n",
      "El elemento 4 se repite 76 veces en el array.\n",
      "El elemento 5 se repite 23 veces en el array.\n",
      "El elemento 6 se repite 125 veces en el array.\n",
      "El elemento 7 se repite 76 veces en el array.\n",
      "El elemento 8 se repite 13 veces en el array.\n",
      "El elemento 9 se repite 124 veces en el array.\n"
     ]
    }
   ],
   "source": [
    "elementos_unicos, frecuencias = np.unique(y_pred_test, return_counts=True)\n",
    "\n",
    "# Imprimir resultados\n",
    "for elemento, frecuencia in zip(elementos_unicos, frecuencias):\n",
    "    print(f\"El elemento {elemento} se repite {frecuencia} veces en el array.\")"
   ]
  },
  {
   "cell_type": "code",
   "execution_count": 27,
   "metadata": {},
   "outputs": [],
   "source": [
    "dump(best_model, open(\"../models/best_model_child.pk\", \"wb\"))"
   ]
  },
  {
   "cell_type": "code",
   "execution_count": 28,
   "metadata": {},
   "outputs": [],
   "source": [
    "dat1 = X_train\n",
    "dat1[\"cluster\"] = y_train\n",
    "dat2 = X_test\n",
    "dat2[\"cluster\"] = y_test"
   ]
  },
  {
   "cell_type": "code",
   "execution_count": 29,
   "metadata": {},
   "outputs": [
    {
     "data": {
      "image/png": "[encoded data removed]",
      "text/plain": [
       "<Figure size 1500x500 with 2 Axes>"
      ]
     },
     "metadata": {},
     "output_type": "display_data"
    }
   ],
   "source": [
    "# Plot cluster's\n",
    "fig, axis = plt.subplots(1, 2, figsize = (15,5))\n",
    "\n",
    "sns.scatterplot(ax = axis[0], data = dat1, x = 'vict_descent', y = 'vict_age', hue = 'cluster', palette='Set1')\n",
    "sns.scatterplot(ax = axis[1], data = dat2, x = 'vict_descent', y = 'vict_age', hue = 'cluster', palette='Set1')\n",
    "\n",
    "plt.show()"
   ]
  }
 ],
 "metadata": {
  "kernelspec": {
   "display_name": "Python 3",
   "language": "python",
   "name": "python3"
  },
  "language_info": {
   "codemirror_mode": {
    "name": "ipython",
    "version": 3
   },
   "file_extension": ".py",
   "mimetype": "text/x-python",
   "name": "python",
   "nbconvert_exporter": "python",
   "pygments_lexer": "ipython3",
   "version": "3.10.2"
  }
 },
 "nbformat": 4,
 "nbformat_minor": 2
}

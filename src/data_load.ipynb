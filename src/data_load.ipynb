{
 "cells": [
  {
   "cell_type": "code",
   "execution_count": 2,
   "metadata": {},
   "outputs": [],
   "source": [
    "import pandas as pd\n",
    "import requests"
   ]
  },
  {
   "cell_type": "code",
   "execution_count": null,
   "metadata": {},
   "outputs": [],
   "source": [
    "url = \"https://data.lacity.org/resource/2nrs-mtv8.csv?$select=*&$limit=764061&$offset=0\"\n",
    "response = requests.get(url)\n",
    "# Verificar si la solicitud fue exitosa (código de estado 200)\n",
    "if str(response.status_code).startswith('2'):\n",
    "    # Guardar el contenido en un archivo CSV\n",
    "    with open(\"../data/raw/crime_data.csv\", \"wb\") as f:\n",
    "        f.write(response.content)\n",
    "else:\n",
    "    print(f\"Error al realizar la solicitud: {response.status_code}\")"
   ]
  }
 ],
 "metadata": {
  "kernelspec": {
   "display_name": "Python 3",
   "language": "python",
   "name": "python3"
  },
  "language_info": {
   "codemirror_mode": {
    "name": "ipython",
    "version": 3
   },
   "file_extension": ".py",
   "mimetype": "text/x-python",
   "name": "python",
   "nbconvert_exporter": "python",
   "pygments_lexer": "ipython3",
   "version": "3.10.2"
  }
 },
 "nbformat": 4,
 "nbformat_minor": 2
}

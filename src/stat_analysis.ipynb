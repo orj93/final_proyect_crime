{
 "cells": [
  {
   "cell_type": "code",
   "execution_count": 1,
   "metadata": {},
   "outputs": [],
   "source": [
    "import pandas as pd"
   ]
  },
  {
   "cell_type": "code",
   "execution_count": 2,
   "metadata": {},
   "outputs": [],
   "source": [
    "total_data=pd.read_csv(\"../data/raw/selected_data.csv\")"
   ]
  },
  {
   "cell_type": "code",
   "execution_count": 3,
   "metadata": {},
   "outputs": [
    {
     "data": {
      "text/html": [
       "<div>\n",
       "<style scoped>\n",
       "    .dataframe tbody tr th:only-of-type {\n",
       "        vertical-align: middle;\n",
       "    }\n",
       "\n",
       "    .dataframe tbody tr th {\n",
       "        vertical-align: top;\n",
       "    }\n",
       "\n",
       "    .dataframe thead th {\n",
       "        text-align: right;\n",
       "    }\n",
       "</style>\n",
       "<table border=\"1\" class=\"dataframe\">\n",
       "  <thead>\n",
       "    <tr style=\"text-align: right;\">\n",
       "      <th></th>\n",
       "      <th>date_occ</th>\n",
       "      <th>time_occ</th>\n",
       "      <th>area_name</th>\n",
       "      <th>rpt_dist_no</th>\n",
       "      <th>crm_cd_desc</th>\n",
       "      <th>mocodes</th>\n",
       "      <th>vict_age</th>\n",
       "      <th>vict_sex</th>\n",
       "      <th>vict_descent</th>\n",
       "      <th>premis_desc</th>\n",
       "      <th>weapon_desc</th>\n",
       "      <th>status_desc</th>\n",
       "      <th>location</th>\n",
       "      <th>lat</th>\n",
       "      <th>lon</th>\n",
       "    </tr>\n",
       "  </thead>\n",
       "  <tbody>\n",
       "    <tr>\n",
       "      <th>0</th>\n",
       "      <td>2020-01-08T00:00:00.000</td>\n",
       "      <td>2230</td>\n",
       "      <td>Southwest</td>\n",
       "      <td>377</td>\n",
       "      <td>BATTERY - SIMPLE ASSAULT</td>\n",
       "      <td>0444 0913</td>\n",
       "      <td>36</td>\n",
       "      <td>F</td>\n",
       "      <td>B</td>\n",
       "      <td>SINGLE FAMILY DWELLING</td>\n",
       "      <td>STRONG-ARM (HANDS, FIST, FEET OR BODILY FORCE)</td>\n",
       "      <td>Adult Other</td>\n",
       "      <td>1100 W  39TH                         PL</td>\n",
       "      <td>34.0141</td>\n",
       "      <td>-118.2978</td>\n",
       "    </tr>\n",
       "    <tr>\n",
       "      <th>1</th>\n",
       "      <td>2020-01-01T00:00:00.000</td>\n",
       "      <td>330</td>\n",
       "      <td>Central</td>\n",
       "      <td>163</td>\n",
       "      <td>BATTERY - SIMPLE ASSAULT</td>\n",
       "      <td>0416 1822 1414</td>\n",
       "      <td>25</td>\n",
       "      <td>M</td>\n",
       "      <td>H</td>\n",
       "      <td>SIDEWALK</td>\n",
       "      <td>UNKNOWN WEAPON/OTHER WEAPON</td>\n",
       "      <td>Invest Cont</td>\n",
       "      <td>700 S  HILL                         ST</td>\n",
       "      <td>34.0459</td>\n",
       "      <td>-118.2545</td>\n",
       "    </tr>\n",
       "    <tr>\n",
       "      <th>2</th>\n",
       "      <td>2020-02-13T00:00:00.000</td>\n",
       "      <td>1200</td>\n",
       "      <td>Central</td>\n",
       "      <td>155</td>\n",
       "      <td>SEX OFFENDER REGISTRANT OUT OF COMPLIANCE</td>\n",
       "      <td>1501</td>\n",
       "      <td>0</td>\n",
       "      <td>X</td>\n",
       "      <td>X</td>\n",
       "      <td>POLICE FACILITY</td>\n",
       "      <td>NaN</td>\n",
       "      <td>Adult Arrest</td>\n",
       "      <td>200 E  6TH                          ST</td>\n",
       "      <td>34.0448</td>\n",
       "      <td>-118.2474</td>\n",
       "    </tr>\n",
       "    <tr>\n",
       "      <th>3</th>\n",
       "      <td>2020-01-01T00:00:00.000</td>\n",
       "      <td>1730</td>\n",
       "      <td>N Hollywood</td>\n",
       "      <td>1543</td>\n",
       "      <td>VANDALISM - MISDEAMEANOR ($399 OR UNDER)</td>\n",
       "      <td>0329 1402</td>\n",
       "      <td>76</td>\n",
       "      <td>F</td>\n",
       "      <td>W</td>\n",
       "      <td>MULTI-UNIT DWELLING (APARTMENT, DUPLEX, ETC)</td>\n",
       "      <td>NaN</td>\n",
       "      <td>Invest Cont</td>\n",
       "      <td>5400    CORTEEN                      PL</td>\n",
       "      <td>34.1685</td>\n",
       "      <td>-118.4019</td>\n",
       "    </tr>\n",
       "    <tr>\n",
       "      <th>4</th>\n",
       "      <td>2020-01-01T00:00:00.000</td>\n",
       "      <td>415</td>\n",
       "      <td>Mission</td>\n",
       "      <td>1998</td>\n",
       "      <td>VANDALISM - FELONY ($400 &amp; OVER, ALL CHURCH VA...</td>\n",
       "      <td>0329</td>\n",
       "      <td>31</td>\n",
       "      <td>X</td>\n",
       "      <td>X</td>\n",
       "      <td>BEAUTY SUPPLY STORE</td>\n",
       "      <td>NaN</td>\n",
       "      <td>Invest Cont</td>\n",
       "      <td>14400    TITUS                        ST</td>\n",
       "      <td>34.2198</td>\n",
       "      <td>-118.4468</td>\n",
       "    </tr>\n",
       "  </tbody>\n",
       "</table>\n",
       "</div>"
      ],
      "text/plain": [
       "                  date_occ  time_occ    area_name  rpt_dist_no  \\\n",
       "0  2020-01-08T00:00:00.000      2230    Southwest          377   \n",
       "1  2020-01-01T00:00:00.000       330      Central          163   \n",
       "2  2020-02-13T00:00:00.000      1200      Central          155   \n",
       "3  2020-01-01T00:00:00.000      1730  N Hollywood         1543   \n",
       "4  2020-01-01T00:00:00.000       415      Mission         1998   \n",
       "\n",
       "                                         crm_cd_desc         mocodes  \\\n",
       "0                           BATTERY - SIMPLE ASSAULT       0444 0913   \n",
       "1                           BATTERY - SIMPLE ASSAULT  0416 1822 1414   \n",
       "2          SEX OFFENDER REGISTRANT OUT OF COMPLIANCE            1501   \n",
       "3           VANDALISM - MISDEAMEANOR ($399 OR UNDER)       0329 1402   \n",
       "4  VANDALISM - FELONY ($400 & OVER, ALL CHURCH VA...            0329   \n",
       "\n",
       "   vict_age vict_sex vict_descent  \\\n",
       "0        36        F            B   \n",
       "1        25        M            H   \n",
       "2         0        X            X   \n",
       "3        76        F            W   \n",
       "4        31        X            X   \n",
       "\n",
       "                                    premis_desc  \\\n",
       "0                        SINGLE FAMILY DWELLING   \n",
       "1                                      SIDEWALK   \n",
       "2                               POLICE FACILITY   \n",
       "3  MULTI-UNIT DWELLING (APARTMENT, DUPLEX, ETC)   \n",
       "4                           BEAUTY SUPPLY STORE   \n",
       "\n",
       "                                      weapon_desc   status_desc  \\\n",
       "0  STRONG-ARM (HANDS, FIST, FEET OR BODILY FORCE)   Adult Other   \n",
       "1                     UNKNOWN WEAPON/OTHER WEAPON   Invest Cont   \n",
       "2                                             NaN  Adult Arrest   \n",
       "3                                             NaN   Invest Cont   \n",
       "4                                             NaN   Invest Cont   \n",
       "\n",
       "                                   location      lat       lon  \n",
       "0   1100 W  39TH                         PL  34.0141 -118.2978  \n",
       "1    700 S  HILL                         ST  34.0459 -118.2545  \n",
       "2    200 E  6TH                          ST  34.0448 -118.2474  \n",
       "3   5400    CORTEEN                      PL  34.1685 -118.4019  \n",
       "4  14400    TITUS                        ST  34.2198 -118.4468  "
      ]
     },
     "execution_count": 3,
     "metadata": {},
     "output_type": "execute_result"
    }
   ],
   "source": [
    "total_data.head()"
   ]
  },
  {
   "cell_type": "code",
   "execution_count": 4,
   "metadata": {},
   "outputs": [
    {
     "name": "stdout",
     "output_type": "stream",
     "text": [
      "<class 'pandas.core.frame.DataFrame'>\n",
      "RangeIndex: 764061 entries, 0 to 764060\n",
      "Data columns (total 15 columns):\n",
      " #   Column        Non-Null Count   Dtype  \n",
      "---  ------        --------------   -----  \n",
      " 0   date_occ      764061 non-null  object \n",
      " 1   time_occ      764061 non-null  int64  \n",
      " 2   area_name     764061 non-null  object \n",
      " 3   rpt_dist_no   764061 non-null  int64  \n",
      " 4   crm_cd_desc   764061 non-null  object \n",
      " 5   mocodes       662300 non-null  object \n",
      " 6   vict_age      764061 non-null  int64  \n",
      " 7   vict_sex      669514 non-null  object \n",
      " 8   vict_descent  669503 non-null  object \n",
      " 9   premis_desc   763579 non-null  object \n",
      " 10  weapon_desc   263469 non-null  object \n",
      " 11  status_desc   764061 non-null  object \n",
      " 12  location      764061 non-null  object \n",
      " 13  lat           764061 non-null  float64\n",
      " 14  lon           764061 non-null  float64\n",
      "dtypes: float64(2), int64(3), object(10)\n",
      "memory usage: 87.4+ MB\n"
     ]
    }
   ],
   "source": [
    "total_data.info()"
   ]
  },
  {
   "cell_type": "code",
   "execution_count": 5,
   "metadata": {},
   "outputs": [
    {
     "data": {
      "text/plain": [
       "173499"
      ]
     },
     "execution_count": 5,
     "metadata": {},
     "output_type": "execute_result"
    }
   ],
   "source": [
    "duplicate_count = total_data.duplicated().sum()\n",
    "duplicate_count"
   ]
  },
  {
   "cell_type": "code",
   "execution_count": 6,
   "metadata": {},
   "outputs": [
    {
     "name": "stdout",
     "output_type": "stream",
     "text": [
      "(590562, 15)\n"
     ]
    },
    {
     "data": {
      "text/html": [
       "<div>\n",
       "<style scoped>\n",
       "    .dataframe tbody tr th:only-of-type {\n",
       "        vertical-align: middle;\n",
       "    }\n",
       "\n",
       "    .dataframe tbody tr th {\n",
       "        vertical-align: top;\n",
       "    }\n",
       "\n",
       "    .dataframe thead th {\n",
       "        text-align: right;\n",
       "    }\n",
       "</style>\n",
       "<table border=\"1\" class=\"dataframe\">\n",
       "  <thead>\n",
       "    <tr style=\"text-align: right;\">\n",
       "      <th></th>\n",
       "      <th>date_occ</th>\n",
       "      <th>time_occ</th>\n",
       "      <th>area_name</th>\n",
       "      <th>rpt_dist_no</th>\n",
       "      <th>crm_cd_desc</th>\n",
       "      <th>mocodes</th>\n",
       "      <th>vict_age</th>\n",
       "      <th>vict_sex</th>\n",
       "      <th>vict_descent</th>\n",
       "      <th>premis_desc</th>\n",
       "      <th>weapon_desc</th>\n",
       "      <th>status_desc</th>\n",
       "      <th>location</th>\n",
       "      <th>lat</th>\n",
       "      <th>lon</th>\n",
       "    </tr>\n",
       "  </thead>\n",
       "  <tbody>\n",
       "    <tr>\n",
       "      <th>0</th>\n",
       "      <td>2020-01-08T00:00:00.000</td>\n",
       "      <td>2230</td>\n",
       "      <td>Southwest</td>\n",
       "      <td>377</td>\n",
       "      <td>BATTERY - SIMPLE ASSAULT</td>\n",
       "      <td>0444 0913</td>\n",
       "      <td>36</td>\n",
       "      <td>F</td>\n",
       "      <td>B</td>\n",
       "      <td>SINGLE FAMILY DWELLING</td>\n",
       "      <td>STRONG-ARM (HANDS, FIST, FEET OR BODILY FORCE)</td>\n",
       "      <td>Adult Other</td>\n",
       "      <td>1100 W  39TH                         PL</td>\n",
       "      <td>34.0141</td>\n",
       "      <td>-118.2978</td>\n",
       "    </tr>\n",
       "    <tr>\n",
       "      <th>1</th>\n",
       "      <td>2020-01-01T00:00:00.000</td>\n",
       "      <td>330</td>\n",
       "      <td>Central</td>\n",
       "      <td>163</td>\n",
       "      <td>BATTERY - SIMPLE ASSAULT</td>\n",
       "      <td>0416 1822 1414</td>\n",
       "      <td>25</td>\n",
       "      <td>M</td>\n",
       "      <td>H</td>\n",
       "      <td>SIDEWALK</td>\n",
       "      <td>UNKNOWN WEAPON/OTHER WEAPON</td>\n",
       "      <td>Invest Cont</td>\n",
       "      <td>700 S  HILL                         ST</td>\n",
       "      <td>34.0459</td>\n",
       "      <td>-118.2545</td>\n",
       "    </tr>\n",
       "    <tr>\n",
       "      <th>2</th>\n",
       "      <td>2020-02-13T00:00:00.000</td>\n",
       "      <td>1200</td>\n",
       "      <td>Central</td>\n",
       "      <td>155</td>\n",
       "      <td>SEX OFFENDER REGISTRANT OUT OF COMPLIANCE</td>\n",
       "      <td>1501</td>\n",
       "      <td>0</td>\n",
       "      <td>X</td>\n",
       "      <td>X</td>\n",
       "      <td>POLICE FACILITY</td>\n",
       "      <td>NaN</td>\n",
       "      <td>Adult Arrest</td>\n",
       "      <td>200 E  6TH                          ST</td>\n",
       "      <td>34.0448</td>\n",
       "      <td>-118.2474</td>\n",
       "    </tr>\n",
       "    <tr>\n",
       "      <th>3</th>\n",
       "      <td>2020-01-01T00:00:00.000</td>\n",
       "      <td>1730</td>\n",
       "      <td>N Hollywood</td>\n",
       "      <td>1543</td>\n",
       "      <td>VANDALISM - MISDEAMEANOR ($399 OR UNDER)</td>\n",
       "      <td>0329 1402</td>\n",
       "      <td>76</td>\n",
       "      <td>F</td>\n",
       "      <td>W</td>\n",
       "      <td>MULTI-UNIT DWELLING (APARTMENT, DUPLEX, ETC)</td>\n",
       "      <td>NaN</td>\n",
       "      <td>Invest Cont</td>\n",
       "      <td>5400    CORTEEN                      PL</td>\n",
       "      <td>34.1685</td>\n",
       "      <td>-118.4019</td>\n",
       "    </tr>\n",
       "    <tr>\n",
       "      <th>4</th>\n",
       "      <td>2020-01-01T00:00:00.000</td>\n",
       "      <td>415</td>\n",
       "      <td>Mission</td>\n",
       "      <td>1998</td>\n",
       "      <td>VANDALISM - FELONY ($400 &amp; OVER, ALL CHURCH VA...</td>\n",
       "      <td>0329</td>\n",
       "      <td>31</td>\n",
       "      <td>X</td>\n",
       "      <td>X</td>\n",
       "      <td>BEAUTY SUPPLY STORE</td>\n",
       "      <td>NaN</td>\n",
       "      <td>Invest Cont</td>\n",
       "      <td>14400    TITUS                        ST</td>\n",
       "      <td>34.2198</td>\n",
       "      <td>-118.4468</td>\n",
       "    </tr>\n",
       "  </tbody>\n",
       "</table>\n",
       "</div>"
      ],
      "text/plain": [
       "                  date_occ  time_occ    area_name  rpt_dist_no  \\\n",
       "0  2020-01-08T00:00:00.000      2230    Southwest          377   \n",
       "1  2020-01-01T00:00:00.000       330      Central          163   \n",
       "2  2020-02-13T00:00:00.000      1200      Central          155   \n",
       "3  2020-01-01T00:00:00.000      1730  N Hollywood         1543   \n",
       "4  2020-01-01T00:00:00.000       415      Mission         1998   \n",
       "\n",
       "                                         crm_cd_desc         mocodes  \\\n",
       "0                           BATTERY - SIMPLE ASSAULT       0444 0913   \n",
       "1                           BATTERY - SIMPLE ASSAULT  0416 1822 1414   \n",
       "2          SEX OFFENDER REGISTRANT OUT OF COMPLIANCE            1501   \n",
       "3           VANDALISM - MISDEAMEANOR ($399 OR UNDER)       0329 1402   \n",
       "4  VANDALISM - FELONY ($400 & OVER, ALL CHURCH VA...            0329   \n",
       "\n",
       "   vict_age vict_sex vict_descent  \\\n",
       "0        36        F            B   \n",
       "1        25        M            H   \n",
       "2         0        X            X   \n",
       "3        76        F            W   \n",
       "4        31        X            X   \n",
       "\n",
       "                                    premis_desc  \\\n",
       "0                        SINGLE FAMILY DWELLING   \n",
       "1                                      SIDEWALK   \n",
       "2                               POLICE FACILITY   \n",
       "3  MULTI-UNIT DWELLING (APARTMENT, DUPLEX, ETC)   \n",
       "4                           BEAUTY SUPPLY STORE   \n",
       "\n",
       "                                      weapon_desc   status_desc  \\\n",
       "0  STRONG-ARM (HANDS, FIST, FEET OR BODILY FORCE)   Adult Other   \n",
       "1                     UNKNOWN WEAPON/OTHER WEAPON   Invest Cont   \n",
       "2                                             NaN  Adult Arrest   \n",
       "3                                             NaN   Invest Cont   \n",
       "4                                             NaN   Invest Cont   \n",
       "\n",
       "                                   location      lat       lon  \n",
       "0   1100 W  39TH                         PL  34.0141 -118.2978  \n",
       "1    700 S  HILL                         ST  34.0459 -118.2545  \n",
       "2    200 E  6TH                          ST  34.0448 -118.2474  \n",
       "3   5400    CORTEEN                      PL  34.1685 -118.4019  \n",
       "4  14400    TITUS                        ST  34.2198 -118.4468  "
      ]
     },
     "execution_count": 6,
     "metadata": {},
     "output_type": "execute_result"
    }
   ],
   "source": [
    "total_data = total_data.drop_duplicates()\n",
    "print(total_data.shape)\n",
    "total_data.head()"
   ]
  },
  {
   "cell_type": "code",
   "execution_count": 7,
   "metadata": {},
   "outputs": [],
   "source": [
    "import datetime\n",
    "total_data['date_occ'] = pd.to_datetime(total_data['date_occ']).dt.date"
   ]
  },
  {
   "cell_type": "code",
   "execution_count": 8,
   "metadata": {},
   "outputs": [],
   "source": [
    "total_data[\"date_occ\"] = pd.to_datetime(total_data[\"date_occ\"])"
   ]
  },
  {
   "cell_type": "code",
   "execution_count": 34,
   "metadata": {},
   "outputs": [
    {
     "name": "stdout",
     "output_type": "stream",
     "text": [
      "<class 'pandas.core.frame.DataFrame'>\n",
      "Index: 590562 entries, 0 to 764060\n",
      "Data columns (total 15 columns):\n",
      " #   Column        Non-Null Count   Dtype         \n",
      "---  ------        --------------   -----         \n",
      " 0   date_occ      590562 non-null  datetime64[ns]\n",
      " 1   time_occ      590562 non-null  int64         \n",
      " 2   area_name     590562 non-null  object        \n",
      " 3   rpt_dist_no   590562 non-null  int64         \n",
      " 4   crm_cd_desc   590562 non-null  object        \n",
      " 5   mocodes       514175 non-null  object        \n",
      " 6   vict_age      590562 non-null  int64         \n",
      " 7   vict_sex      519974 non-null  object        \n",
      " 8   vict_descent  519967 non-null  object        \n",
      " 9   premis_desc   590263 non-null  object        \n",
      " 10  weapon_desc   205378 non-null  object        \n",
      " 11  status_desc   590562 non-null  object        \n",
      " 12  location      590562 non-null  object        \n",
      " 13  lat           590562 non-null  float64       \n",
      " 14  lon           590562 non-null  float64       \n",
      "dtypes: datetime64[ns](1), float64(2), int64(3), object(9)\n",
      "memory usage: 72.1+ MB\n"
     ]
    }
   ],
   "source": [
    "total_data.info()"
   ]
  },
  {
   "cell_type": "code",
   "execution_count": 12,
   "metadata": {},
   "outputs": [],
   "source": [
    "num_columns = total_data.select_dtypes(include='number')"
   ]
  },
  {
   "cell_type": "code",
   "execution_count": 13,
   "metadata": {},
   "outputs": [
    {
     "data": {
      "image/png": "[encoded data removed]",
      "text/plain": [
       "<Figure size 2000x600 with 1 Axes>"
      ]
     },
     "metadata": {},
     "output_type": "display_data"
    },
    {
     "data": {
      "image/png": "[encoded data removed]",
      "text/plain": [
       "<Figure size 2000x600 with 1 Axes>"
      ]
     },
     "metadata": {},
     "output_type": "display_data"
    },
    {
     "data": {
      "image/png": "[encoded data removed]",
      "text/plain": [
       "<Figure size 2000x600 with 1 Axes>"
      ]
     },
     "metadata": {},
     "output_type": "display_data"
    },
    {
     "data": {
      "image/png": "[encoded data removed]",
      "text/plain": [
       "<Figure size 2000x600 with 1 Axes>"
      ]
     },
     "metadata": {},
     "output_type": "display_data"
    },
    {
     "data": {
      "image/png": "[encoded data removed]",
      "text/plain": [
       "<Figure size 2000x600 with 1 Axes>"
      ]
     },
     "metadata": {},
     "output_type": "display_data"
    }
   ],
   "source": [
    "import matplotlib.pyplot as plt \n",
    "import seaborn as sns\n",
    "for i in num_columns.columns:\n",
    "    plt.figure(figsize=(20, 6))\n",
    "    sns.histplot(num_columns[i], edgecolor='black')\n",
    "    plt.xticks()\n",
    "    plt.xlabel(i)\n",
    "    plt.ylabel('Crimes')\n",
    "    plt.show"
   ]
  },
  {
   "cell_type": "code",
   "execution_count": 14,
   "metadata": {},
   "outputs": [
    {
     "data": {
      "image/png": "[encoded data removed]",
      "text/plain": [
       "<Figure size 640x480 with 1 Axes>"
      ]
     },
     "metadata": {},
     "output_type": "display_data"
    }
   ],
   "source": [
    "sns.scatterplot(x=total_data['lon'], y=total_data['lat'], data=total_data)\n",
    "plt.title('Mapa de Dispersión de Latitud y Longitud')\n",
    "plt.xlabel('Longitud')\n",
    "plt.ylabel('Latitud')\n",
    "plt.show()"
   ]
  },
  {
   "cell_type": "code",
   "execution_count": 15,
   "metadata": {},
   "outputs": [
    {
     "data": {
      "text/html": [
       "<div>\n",
       "<style scoped>\n",
       "    .dataframe tbody tr th:only-of-type {\n",
       "        vertical-align: middle;\n",
       "    }\n",
       "\n",
       "    .dataframe tbody tr th {\n",
       "        vertical-align: top;\n",
       "    }\n",
       "\n",
       "    .dataframe thead th {\n",
       "        text-align: right;\n",
       "    }\n",
       "</style>\n",
       "<table border=\"1\" class=\"dataframe\">\n",
       "  <thead>\n",
       "    <tr style=\"text-align: right;\">\n",
       "      <th></th>\n",
       "      <th>date_occ</th>\n",
       "      <th>time_occ</th>\n",
       "      <th>rpt_dist_no</th>\n",
       "      <th>vict_age</th>\n",
       "      <th>lat</th>\n",
       "      <th>lon</th>\n",
       "    </tr>\n",
       "  </thead>\n",
       "  <tbody>\n",
       "    <tr>\n",
       "      <th>count</th>\n",
       "      <td>590562</td>\n",
       "      <td>590562.000000</td>\n",
       "      <td>590562.000000</td>\n",
       "      <td>590562.000000</td>\n",
       "      <td>590562.000000</td>\n",
       "      <td>590562.000000</td>\n",
       "    </tr>\n",
       "    <tr>\n",
       "      <th>mean</th>\n",
       "      <td>2019-07-13 20:51:49.195648</td>\n",
       "      <td>1347.075112</td>\n",
       "      <td>961.271408</td>\n",
       "      <td>29.834043</td>\n",
       "      <td>34.011144</td>\n",
       "      <td>-118.143384</td>\n",
       "    </tr>\n",
       "    <tr>\n",
       "      <th>min</th>\n",
       "      <td>2010-01-01 00:00:00</td>\n",
       "      <td>1.000000</td>\n",
       "      <td>101.000000</td>\n",
       "      <td>-12.000000</td>\n",
       "      <td>0.000000</td>\n",
       "      <td>-118.766800</td>\n",
       "    </tr>\n",
       "    <tr>\n",
       "      <th>25%</th>\n",
       "      <td>2011-12-02 00:00:00</td>\n",
       "      <td>900.000000</td>\n",
       "      <td>404.000000</td>\n",
       "      <td>15.000000</td>\n",
       "      <td>34.022800</td>\n",
       "      <td>-118.417000</td>\n",
       "    </tr>\n",
       "    <tr>\n",
       "      <th>50%</th>\n",
       "      <td>2021-11-17 00:00:00</td>\n",
       "      <td>1427.000000</td>\n",
       "      <td>889.000000</td>\n",
       "      <td>30.000000</td>\n",
       "      <td>34.056500</td>\n",
       "      <td>-118.309000</td>\n",
       "    </tr>\n",
       "    <tr>\n",
       "      <th>75%</th>\n",
       "      <td>2023-05-07 00:00:00</td>\n",
       "      <td>1900.000000</td>\n",
       "      <td>1454.000000</td>\n",
       "      <td>45.000000</td>\n",
       "      <td>34.141600</td>\n",
       "      <td>-118.266500</td>\n",
       "    </tr>\n",
       "    <tr>\n",
       "      <th>max</th>\n",
       "      <td>2023-12-31 00:00:00</td>\n",
       "      <td>2359.000000</td>\n",
       "      <td>2198.000000</td>\n",
       "      <td>99.000000</td>\n",
       "      <td>34.676500</td>\n",
       "      <td>0.000000</td>\n",
       "    </tr>\n",
       "    <tr>\n",
       "      <th>std</th>\n",
       "      <td>NaN</td>\n",
       "      <td>651.943265</td>\n",
       "      <td>609.708820</td>\n",
       "      <td>21.367869</td>\n",
       "      <td>1.402903</td>\n",
       "      <td>4.859462</td>\n",
       "    </tr>\n",
       "  </tbody>\n",
       "</table>\n",
       "</div>"
      ],
      "text/plain": [
       "                         date_occ       time_occ    rpt_dist_no  \\\n",
       "count                      590562  590562.000000  590562.000000   \n",
       "mean   2019-07-13 20:51:49.195648    1347.075112     961.271408   \n",
       "min           2010-01-01 00:00:00       1.000000     101.000000   \n",
       "25%           2011-12-02 00:00:00     900.000000     404.000000   \n",
       "50%           2021-11-17 00:00:00    1427.000000     889.000000   \n",
       "75%           2023-05-07 00:00:00    1900.000000    1454.000000   \n",
       "max           2023-12-31 00:00:00    2359.000000    2198.000000   \n",
       "std                           NaN     651.943265     609.708820   \n",
       "\n",
       "            vict_age            lat            lon  \n",
       "count  590562.000000  590562.000000  590562.000000  \n",
       "mean       29.834043      34.011144    -118.143384  \n",
       "min       -12.000000       0.000000    -118.766800  \n",
       "25%        15.000000      34.022800    -118.417000  \n",
       "50%        30.000000      34.056500    -118.309000  \n",
       "75%        45.000000      34.141600    -118.266500  \n",
       "max        99.000000      34.676500       0.000000  \n",
       "std        21.367869       1.402903       4.859462  "
      ]
     },
     "execution_count": 15,
     "metadata": {},
     "output_type": "execute_result"
    }
   ],
   "source": [
    "total_data.describe()"
   ]
  },
  {
   "cell_type": "code",
   "execution_count": 16,
   "metadata": {},
   "outputs": [],
   "source": [
    "means= num_columns.mean()\n",
    "medians = num_columns.median()\n",
    "modes = num_columns.mode().iloc[0]    "
   ]
  },
  {
   "cell_type": "code",
   "execution_count": 17,
   "metadata": {},
   "outputs": [],
   "source": [
    "ranks = num_columns.max() - num_columns.min()\n",
    "variances = num_columns.var()\n",
    "stds = num_columns.std()"
   ]
  },
  {
   "cell_type": "code",
   "execution_count": 18,
   "metadata": {},
   "outputs": [],
   "source": [
    "resultados = {\n",
    "    'mean_per_column': means.to_dict(),\n",
    "    'median_per_column': medians.to_dict(),\n",
    "    'mode_per_column': modes.to_dict(),\n",
    "    'ranks_per_column': ranks.to_dict(),\n",
    "    'variances_per_column': variances.to_dict(),\n",
    "    'stds_per_column': stds.to_dict()\n",
    "}"
   ]
  },
  {
   "cell_type": "code",
   "execution_count": 19,
   "metadata": {},
   "outputs": [],
   "source": [
    "str_columns=total_data.select_dtypes(include='object')"
   ]
  },
  {
   "cell_type": "code",
   "execution_count": 20,
   "metadata": {},
   "outputs": [],
   "source": [
    "modes = str_columns.mode().iloc[0]"
   ]
  },
  {
   "cell_type": "code",
   "execution_count": 21,
   "metadata": {},
   "outputs": [],
   "source": [
    "modes=modes.to_dict()"
   ]
  },
  {
   "cell_type": "code",
   "execution_count": 22,
   "metadata": {},
   "outputs": [],
   "source": [
    "resultados[\"mode_per_column\"].update(modes)"
   ]
  },
  {
   "cell_type": "code",
   "execution_count": 23,
   "metadata": {},
   "outputs": [],
   "source": [
    "date_columns=total_data.select_dtypes(include='datetime')"
   ]
  },
  {
   "cell_type": "code",
   "execution_count": 24,
   "metadata": {},
   "outputs": [],
   "source": [
    "medians = date_columns.median()\n",
    "modes = date_columns.mode().iloc[0] \n",
    "ranks = date_columns.max() - date_columns.min()  "
   ]
  },
  {
   "cell_type": "code",
   "execution_count": 25,
   "metadata": {},
   "outputs": [],
   "source": [
    "resultados[\"median_per_column\"].update(medians)\n",
    "resultados[\"mode_per_column\"].update(modes)\n",
    "resultados[\"ranks_per_column\"].update(ranks)"
   ]
  },
  {
   "cell_type": "code",
   "execution_count": 26,
   "metadata": {},
   "outputs": [],
   "source": [
    "resultados_json = pd.Series(resultados).to_json(indent=2)\n",
    "\n",
    "with open('../data/interim/stats.json', 'w') as file:\n",
    "    file.write(resultados_json)"
   ]
  },
  {
   "cell_type": "code",
   "execution_count": 36,
   "metadata": {},
   "outputs": [],
   "source": [
    "total_data.to_csv(\"../data/interim/eda_data.csv\",index=False)"
   ]
  },
  {
   "cell_type": "code",
   "execution_count": 33,
   "metadata": {},
   "outputs": [],
   "source": [
    "# import json\n",
    "# with open(\"../data/interim/stats.json\", \"r\") as archivo:\n",
    "#     # Cargar el contenido del archivo JSON\n",
    "#     datos = json.load(archivo)\n",
    "# datos['mode_per_column']#['date_occ']"
   ]
  },
  {
   "cell_type": "code",
   "execution_count": null,
   "metadata": {},
   "outputs": [],
   "source": []
  }
 ],
 "metadata": {
  "kernelspec": {
   "display_name": "Python 3",
   "language": "python",
   "name": "python3"
  },
  "language_info": {
   "codemirror_mode": {
    "name": "ipython",
    "version": 3
   },
   "file_extension": ".py",
   "mimetype": "text/x-python",
   "name": "python",
   "nbconvert_exporter": "python",
   "pygments_lexer": "ipython3",
   "version": "3.10.2"
  }
 },
 "nbformat": 4,
 "nbformat_minor": 2
}

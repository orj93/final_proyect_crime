{
 "cells": [
  {
   "cell_type": "code",
   "execution_count": null,
   "metadata": {},
   "outputs": [],
   "source": [
    "import pandas as pd\n",
    "import requests"
   ]
  },
  {
   "cell_type": "code",
   "execution_count": null,
   "metadata": {},
   "outputs": [],
   "source": [
    "url = \"https://data.lacity.org/resource/2nrs-mtv8.csv?$select=*&$limit=764061&$offset=0\"\n",
    "response = requests.get(url)\n",
    "# Verificar si la solicitud fue exitosa (código de estado 200)\n",
    "if str(response.status_code).startswith('2'):\n",
    "    # Guardar el contenido en un archivo CSV\n",
    "    with open(\"../data/raw/crime_data.csv\", \"wb\") as f:\n",
    "        f.write(response.content)\n",
    "else:\n",
    "    print(f\"Error al realizar la solicitud: {response.status_code}\")"
   ]
  }
 ],
 "metadata": {
  "language_info": {
   "name": "python"
  }
 },
 "nbformat": 4,
 "nbformat_minor": 2
}
